{
  "nbformat": 4,
  "nbformat_minor": 0,
  "metadata": {
    "colab": {
      "name": "YOLOv5_training_colab.ipynb",
      "provenance": [],
      "collapsed_sections": [],
      "toc_visible": true,
      "mount_file_id": "1cszNqQoiyO24fzqqlqCnZbQDLYdjznfN",
      "authorship_tag": "ABX9TyPwl8+F9N6kAV8Gw40n6Zxn",
      "include_colab_link": true
    },
    "kernelspec": {
      "name": "python3",
      "display_name": "Python 3"
    },
    "accelerator": "GPU"
  },
  "cells": [
    {
      "cell_type": "markdown",
      "metadata": {
        "id": "view-in-github",
        "colab_type": "text"
      },
      "source": [
        "<a href=\"https://colab.research.google.com/github/YummyCocopalm/Kaggle-Global-Wheat-Detection/blob/master/YOLOv5_training_colab.ipynb\" target=\"_parent\"><img src=\"https://colab.research.google.com/assets/colab-badge.svg\" alt=\"Open In Colab\"/></a>"
      ]
    },
    {
      "cell_type": "code",
      "metadata": {
        "id": "OoBHduIadAI7",
        "colab_type": "code",
        "colab": {
          "base_uri": "https://localhost:8080/",
          "height": 35
        },
        "outputId": "01e1add0-c382-495d-b1fa-b73aaae5a0b2"
      },
      "source": [
        "import numpy as np\n",
        "import pandas as pd\n",
        "import os"
      ],
      "execution_count": 1,
      "outputs": [
        {
          "output_type": "stream",
          "text": [
            "Once deleted, variables cannot be recovered. Proceed (y/[n])? y\n"
          ],
          "name": "stdout"
        }
      ]
    },
    {
      "cell_type": "code",
      "metadata": {
        "id": "MlvKV6g3Kcdn",
        "colab_type": "code",
        "colab": {
          "base_uri": "https://localhost:8080/",
          "height": 251
        },
        "outputId": "3712f0d4-9bca-4d59-98c4-f8a7bcf42745"
      },
      "source": [
        "!pip install -U PyYAML"
      ],
      "execution_count": 2,
      "outputs": [
        {
          "output_type": "stream",
          "text": [
            "Collecting PyYAML\n",
            "\u001b[?25l  Downloading https://files.pythonhosted.org/packages/64/c2/b80047c7ac2478f9501676c988a5411ed5572f35d1beff9cae07d321512c/PyYAML-5.3.1.tar.gz (269kB)\n",
            "\r\u001b[K     |█▏                              | 10kB 24.3MB/s eta 0:00:01\r\u001b[K     |██▍                             | 20kB 2.9MB/s eta 0:00:01\r\u001b[K     |███▋                            | 30kB 3.6MB/s eta 0:00:01\r\u001b[K     |████▉                           | 40kB 4.0MB/s eta 0:00:01\r\u001b[K     |██████                          | 51kB 3.4MB/s eta 0:00:01\r\u001b[K     |███████▎                        | 61kB 3.7MB/s eta 0:00:01\r\u001b[K     |████████▌                       | 71kB 4.1MB/s eta 0:00:01\r\u001b[K     |█████████▊                      | 81kB 4.4MB/s eta 0:00:01\r\u001b[K     |███████████                     | 92kB 4.6MB/s eta 0:00:01\r\u001b[K     |████████████▏                   | 102kB 4.5MB/s eta 0:00:01\r\u001b[K     |█████████████▍                  | 112kB 4.5MB/s eta 0:00:01\r\u001b[K     |██████████████▋                 | 122kB 4.5MB/s eta 0:00:01\r\u001b[K     |███████████████▉                | 133kB 4.5MB/s eta 0:00:01\r\u001b[K     |█████████████████               | 143kB 4.5MB/s eta 0:00:01\r\u001b[K     |██████████████████▎             | 153kB 4.5MB/s eta 0:00:01\r\u001b[K     |███████████████████▌            | 163kB 4.5MB/s eta 0:00:01\r\u001b[K     |████████████████████▊           | 174kB 4.5MB/s eta 0:00:01\r\u001b[K     |██████████████████████          | 184kB 4.5MB/s eta 0:00:01\r\u001b[K     |███████████████████████▏        | 194kB 4.5MB/s eta 0:00:01\r\u001b[K     |████████████████████████▎       | 204kB 4.5MB/s eta 0:00:01\r\u001b[K     |█████████████████████████▌      | 215kB 4.5MB/s eta 0:00:01\r\u001b[K     |██████████████████████████▊     | 225kB 4.5MB/s eta 0:00:01\r\u001b[K     |████████████████████████████    | 235kB 4.5MB/s eta 0:00:01\r\u001b[K     |█████████████████████████████▏  | 245kB 4.5MB/s eta 0:00:01\r\u001b[K     |██████████████████████████████▍ | 256kB 4.5MB/s eta 0:00:01\r\u001b[K     |███████████████████████████████▋| 266kB 4.5MB/s eta 0:00:01\r\u001b[K     |████████████████████████████████| 276kB 4.5MB/s \n",
            "\u001b[?25hBuilding wheels for collected packages: PyYAML\n",
            "  Building wheel for PyYAML (setup.py) ... \u001b[?25l\u001b[?25hdone\n",
            "  Created wheel for PyYAML: filename=PyYAML-5.3.1-cp36-cp36m-linux_x86_64.whl size=44621 sha256=5c3eb13f245c98f9b65f1e9252e77f63b665cbe855ed275c7d4bba11fd58099d\n",
            "  Stored in directory: /root/.cache/pip/wheels/a7/c1/ea/cf5bd31012e735dc1dfea3131a2d5eae7978b251083d6247bd\n",
            "Successfully built PyYAML\n",
            "Installing collected packages: PyYAML\n",
            "  Found existing installation: PyYAML 3.13\n",
            "    Uninstalling PyYAML-3.13:\n",
            "      Successfully uninstalled PyYAML-3.13\n",
            "Successfully installed PyYAML-5.3.1\n"
          ],
          "name": "stdout"
        }
      ]
    },
    {
      "cell_type": "code",
      "metadata": {
        "id": "665tCOfRpIIx",
        "colab_type": "code",
        "colab": {}
      },
      "source": [
        "import torch.random\n",
        "import random\n",
        "random.seed(0)\n",
        "np.random.seed(0)\n",
        "torch.manual_seed(0)\n",
        "torch.cuda.manual_seed_all(0)\n",
        "torch.backends.cudnn.deterministic = True\n",
        "torch.backends.cudnn.benchmark = False"
      ],
      "execution_count": 3,
      "outputs": []
    },
    {
      "cell_type": "code",
      "metadata": {
        "id": "LqnYi7N2Kfjy",
        "colab_type": "code",
        "colab": {}
      },
      "source": [
        "zip_path = '/content/drive/My Drive/Colab Notebooks/train-valid-split.zip'\n",
        "!cp \"{zip_path}\" .\n",
        "!unzip -q 'train-valid-split.zip'\n",
        "!rm 'train-valid-split.zip'"
      ],
      "execution_count": 4,
      "outputs": []
    },
    {
      "cell_type": "code",
      "metadata": {
        "id": "Pqf822LIT_dq",
        "colab_type": "code",
        "colab": {
          "base_uri": "https://localhost:8080/",
          "height": 1000
        },
        "outputId": "49b07f34-20d1-4f86-ac0d-4ed5600acb19"
      },
      "source": [
        "!python '/content/drive/My Drive/Colab Notebooks/yolov5/train.py' --img 1024 --batch 4 --epochs 1 --data '/content/drive/My Drive/Colab Notebooks/yolov5config/wheat_kaggle.yaml' --cfg '/content/drive/My Drive/Colab Notebooks/yolov5config/yolov5x.yaml' --name x-b4-e1"
      ],
      "execution_count": 7,
      "outputs": [
        {
          "output_type": "stream",
          "text": [
            "Apex recommended for faster mixed precision training: https://github.com/NVIDIA/apex\n",
            "{'lr0': 0.01, 'momentum': 0.937, 'weight_decay': 0.0005, 'giou': 0.05, 'cls': 0.58, 'cls_pw': 1.0, 'obj': 1.0, 'obj_pw': 1.0, 'iou_t': 0.2, 'anchor_t': 4.0, 'fl_gamma': 0.0, 'hsv_h': 0.014, 'hsv_s': 0.68, 'hsv_v': 0.36, 'degrees': 0.0, 'translate': 0.0, 'scale': 0.5, 'shear': 0.0}\n",
            "Namespace(adam=False, batch_size=4, bucket='', cache_images=False, cfg='/content/drive/My Drive/Colab Notebooks/yolov5config/yolov5x.yaml', data='/content/drive/My Drive/Colab Notebooks/yolov5config/wheat_kaggle.yaml', device='', epochs=1, evolve=False, img_size=[1024], multi_scale=False, name='x-b4-e1', noautoanchor=False, nosave=False, notest=False, rect=False, resume=False, single_cls=False, weights='')\n",
            "Using CUDA device0 _CudaDeviceProperties(name='Tesla T4', total_memory=15079MB)\n",
            "\n",
            "2020-07-06 17:37:47.047672: I tensorflow/stream_executor/platform/default/dso_loader.cc:44] Successfully opened dynamic library libcudart.so.10.1\n",
            "Start Tensorboard with \"tensorboard --logdir=runs\", view at http://localhost:6006/\n",
            "\n",
            "                 from  n    params  module                                  arguments                     \n",
            "  0                -1  1      8800  models.common.Focus                     [3, 80, 3]                    \n",
            "  1                -1  1    115520  models.common.Conv                      [80, 160, 3, 2]               \n",
            "  2                -1  1    315680  models.common.BottleneckCSP             [160, 160, 4]                 \n",
            "  3                -1  1    461440  models.common.Conv                      [160, 320, 3, 2]              \n",
            "  4                -1  1   3311680  models.common.BottleneckCSP             [320, 320, 12]                \n",
            "  5                -1  1   1844480  models.common.Conv                      [320, 640, 3, 2]              \n",
            "  6                -1  1  13228160  models.common.BottleneckCSP             [640, 640, 12]                \n",
            "  7                -1  1   7375360  models.common.Conv                      [640, 1280, 3, 2]             \n",
            "  8                -1  1   4099840  models.common.SPP                       [1280, 1280, [5, 9, 13]]      \n",
            "  9                -1  1  20087040  models.common.BottleneckCSP             [1280, 1280, 4, False]        \n",
            " 10                -1  1    820480  models.common.Conv                      [1280, 640, 1, 1]             \n",
            " 11                -1  1         0  torch.nn.modules.upsampling.Upsample    [None, 2, 'nearest']          \n",
            " 12           [-1, 6]  1         0  models.common.Concat                    [1]                           \n",
            " 13                -1  1   5435520  models.common.BottleneckCSP             [1280, 640, 4, False]         \n",
            " 14                -1  1    205440  models.common.Conv                      [640, 320, 1, 1]              \n",
            " 15                -1  1         0  torch.nn.modules.upsampling.Upsample    [None, 2, 'nearest']          \n",
            " 16           [-1, 4]  1         0  models.common.Concat                    [1]                           \n",
            " 17                -1  1   1360960  models.common.BottleneckCSP             [640, 320, 4, False]          \n",
            " 18                -1  1      5778  torch.nn.modules.conv.Conv2d            [320, 18, 1, 1]               \n",
            " 19                -2  1    922240  models.common.Conv                      [320, 320, 3, 2]              \n",
            " 20          [-1, 14]  1         0  models.common.Concat                    [1]                           \n",
            " 21                -1  1   5025920  models.common.BottleneckCSP             [640, 640, 4, False]          \n",
            " 22                -1  1     11538  torch.nn.modules.conv.Conv2d            [640, 18, 1, 1]               \n",
            " 23                -2  1   3687680  models.common.Conv                      [640, 640, 3, 2]              \n",
            " 24          [-1, 10]  1         0  models.common.Concat                    [1]                           \n",
            " 25                -1  1  20087040  models.common.BottleneckCSP             [1280, 1280, 4, False]        \n",
            " 26                -1  1     23058  torch.nn.modules.conv.Conv2d            [1280, 18, 1, 1]              \n",
            " 27      [-1, 22, 18]  1         0  models.yolo.Detect                      [1, [[116, 90, 156, 198, 373, 326], [30, 61, 62, 45, 59, 119], [10, 13, 16, 30, 33, 23]]]\n",
            "Model Summary: 407 layers, 8.84337e+07 parameters, 8.84337e+07 gradients\n",
            "\n",
            "Optimizer groups: 134 .bias, 142 conv.weight, 131 other\n",
            "Caching labels /content/labels/train.npy (2361 found, 0 missing, 0 empty, 0 duplicate, for 2361 images): 100% 2361/2361 [00:00<00:00, 12920.67it/s]\n",
            "Caching labels /content/labels/valid.npy (1012 found, 0 missing, 0 empty, 0 duplicate, for 1012 images): 100% 1012/1012 [00:00<00:00, 11763.17it/s]\n",
            "\n",
            "Analyzing anchors... Best Possible Recall (BPR) = 0.9991\n",
            "Image sizes 1024 train, 1024 test\n",
            "Using 2 dataloader workers\n",
            "Starting training for 1 epochs...\n",
            "\n",
            "     Epoch   gpu_mem      GIoU       obj       cls     total   targets  img_size\n",
            "       0/0     12.3G   0.08778    0.2212         0     0.309       136      1024: 100% 591/591 [19:21<00:00,  1.96s/it]\n",
            "               Class      Images     Targets           P           R      mAP@.5  mAP@.5:.95: 100% 253/253 [02:12<00:00,  1.92it/s]\n",
            "                 all    1.01e+03    4.38e+04       0.129       0.731       0.304      0.0761\n",
            "Optimizer stripped from weights/last_x-b4-e1.pt\n",
            "1 epochs completed in 0.360 hours.\n",
            "\n"
          ],
          "name": "stdout"
        }
      ]
    },
    {
      "cell_type": "code",
      "metadata": {
        "id": "23746pJZtIit",
        "colab_type": "code",
        "colab": {}
      },
      "source": [
        ""
      ],
      "execution_count": null,
      "outputs": []
    }
  ]
}