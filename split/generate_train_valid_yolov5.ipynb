{
 "cells": [
  {
   "cell_type": "code",
   "execution_count": 1,
   "metadata": {
    "tags": []
   },
   "outputs": [
    {
     "output_type": "execute_result",
     "data": {
      "text/plain": "'d:\\\\다운로드\\\\Python\\\\competition\\\\global-wheat-detection\\\\working'"
     },
     "metadata": {},
     "execution_count": 1
    }
   ],
   "source": [
    "%reset\n",
    "import numpy as np\n",
    "import pandas as pd\n",
    "import os\n",
    "%pwd"
   ]
  },
  {
   "cell_type": "code",
   "execution_count": 2,
   "metadata": {},
   "outputs": [],
   "source": [
    "train = pd.read_csv('../input/global-wheat-detection/train.csv')\n",
    "submission = pd.read_csv('../input/global-wheat-detection/sample_submission.csv')"
   ]
  },
  {
   "cell_type": "code",
   "execution_count": 3,
   "metadata": {},
   "outputs": [
    {
     "output_type": "execute_result",
     "data": {
      "text/plain": "        class        xc        yc       xln       yln   image_id\n0           0  0.841797  0.234375  0.054688  0.035156  b6ab77fd7\n1           0  0.284180  0.563477  0.126953  0.056641  b6ab77fd7\n2           0  0.404297  0.570312  0.072266  0.156250  b6ab77fd7\n3           0  0.867676  0.145020  0.106445  0.104492  b6ab77fd7\n4           0  0.085938  0.197754  0.121094  0.114258  b6ab77fd7\n...       ...       ...       ...       ...       ...        ...\n147788      0  0.103516  0.650879  0.082031  0.092773  5e0747034\n147789      0  0.337402  0.576172  0.104492  0.080078  5e0747034\n147790      0  0.199707  0.257324  0.137695  0.069336  5e0747034\n147791      0  0.509766  0.051270  0.179688  0.077148  5e0747034\n147792      0  0.900391  0.752441  0.091797  0.059570  5e0747034\n\n[147793 rows x 6 columns]",
      "text/html": "<div>\n<style scoped>\n    .dataframe tbody tr th:only-of-type {\n        vertical-align: middle;\n    }\n\n    .dataframe tbody tr th {\n        vertical-align: top;\n    }\n\n    .dataframe thead th {\n        text-align: right;\n    }\n</style>\n<table border=\"1\" class=\"dataframe\">\n  <thead>\n    <tr style=\"text-align: right;\">\n      <th></th>\n      <th>class</th>\n      <th>xc</th>\n      <th>yc</th>\n      <th>xln</th>\n      <th>yln</th>\n      <th>image_id</th>\n    </tr>\n  </thead>\n  <tbody>\n    <tr>\n      <td>0</td>\n      <td>0</td>\n      <td>0.841797</td>\n      <td>0.234375</td>\n      <td>0.054688</td>\n      <td>0.035156</td>\n      <td>b6ab77fd7</td>\n    </tr>\n    <tr>\n      <td>1</td>\n      <td>0</td>\n      <td>0.284180</td>\n      <td>0.563477</td>\n      <td>0.126953</td>\n      <td>0.056641</td>\n      <td>b6ab77fd7</td>\n    </tr>\n    <tr>\n      <td>2</td>\n      <td>0</td>\n      <td>0.404297</td>\n      <td>0.570312</td>\n      <td>0.072266</td>\n      <td>0.156250</td>\n      <td>b6ab77fd7</td>\n    </tr>\n    <tr>\n      <td>3</td>\n      <td>0</td>\n      <td>0.867676</td>\n      <td>0.145020</td>\n      <td>0.106445</td>\n      <td>0.104492</td>\n      <td>b6ab77fd7</td>\n    </tr>\n    <tr>\n      <td>4</td>\n      <td>0</td>\n      <td>0.085938</td>\n      <td>0.197754</td>\n      <td>0.121094</td>\n      <td>0.114258</td>\n      <td>b6ab77fd7</td>\n    </tr>\n    <tr>\n      <td>...</td>\n      <td>...</td>\n      <td>...</td>\n      <td>...</td>\n      <td>...</td>\n      <td>...</td>\n      <td>...</td>\n    </tr>\n    <tr>\n      <td>147788</td>\n      <td>0</td>\n      <td>0.103516</td>\n      <td>0.650879</td>\n      <td>0.082031</td>\n      <td>0.092773</td>\n      <td>5e0747034</td>\n    </tr>\n    <tr>\n      <td>147789</td>\n      <td>0</td>\n      <td>0.337402</td>\n      <td>0.576172</td>\n      <td>0.104492</td>\n      <td>0.080078</td>\n      <td>5e0747034</td>\n    </tr>\n    <tr>\n      <td>147790</td>\n      <td>0</td>\n      <td>0.199707</td>\n      <td>0.257324</td>\n      <td>0.137695</td>\n      <td>0.069336</td>\n      <td>5e0747034</td>\n    </tr>\n    <tr>\n      <td>147791</td>\n      <td>0</td>\n      <td>0.509766</td>\n      <td>0.051270</td>\n      <td>0.179688</td>\n      <td>0.077148</td>\n      <td>5e0747034</td>\n    </tr>\n    <tr>\n      <td>147792</td>\n      <td>0</td>\n      <td>0.900391</td>\n      <td>0.752441</td>\n      <td>0.091797</td>\n      <td>0.059570</td>\n      <td>5e0747034</td>\n    </tr>\n  </tbody>\n</table>\n<p>147793 rows × 6 columns</p>\n</div>"
     },
     "metadata": {},
     "execution_count": 3
    }
   ],
   "source": [
    "train_bbox = train['bbox'].str.lstrip('[').str.rstrip(']').str.split(', ', expand=True).astype(float)\n",
    "train_bbox.columns = ['x0', 'y0', 'xl', 'yl']\n",
    "train_bbox['class'] = 0\n",
    "train_bbox['xc'] = (train_bbox['x0'] + train_bbox['xl']/2) / train['width']\n",
    "train_bbox['yc'] = (train_bbox['y0'] + train_bbox['yl']/2) / train['height']\n",
    "train_bbox['xln'] = train_bbox['xl'] / train['width']\n",
    "train_bbox['yln'] = train_bbox['yl'] / train['height']\n",
    "train_bbox['image_id'] = train['image_id']\n",
    "train_bbox.drop(columns=train_bbox.columns[0:4], inplace=True)\n",
    "train_bbox"
   ]
  },
  {
   "cell_type": "code",
   "execution_count": 4,
   "metadata": {},
   "outputs": [],
   "source": [
    "train_imgid = pd.Series(data=train_bbox['image_id'].drop_duplicates())\n",
    "train_imgid_y = pd.Series(data=None, index=train_imgid.index, dtype=int)"
   ]
  },
  {
   "cell_type": "code",
   "execution_count": 5,
   "metadata": {},
   "outputs": [],
   "source": [
    "from sklearn.model_selection import train_test_split\n",
    "train_x_imgid, valid_x_imgid, _, _ = train_test_split(train_imgid, train_imgid_y, test_size=0.3, random_state=0)"
   ]
  },
  {
   "cell_type": "code",
   "execution_count": 6,
   "metadata": {},
   "outputs": [],
   "source": [
    "import shutil\n",
    "def clean_dir(path_dir):\n",
    "    if os.path.exists(path_dir):\n",
    "        shutil.rmtree(path_dir)\n",
    "    os.mkdir(path_dir)"
   ]
  },
  {
   "cell_type": "code",
   "execution_count": 7,
   "metadata": {},
   "outputs": [],
   "source": [
    "TRAIN_ORG = '../input/global-wheat-detection/train/'\n",
    "TEST_ORG = '../input/global-wheat-detection/test/'\n",
    "SPLIT = '../train-valid-split/'\n",
    "IMG_SPL = SPLIT + 'images/'\n",
    "LBL_SPL = SPLIT + 'labels/'\n",
    "TRAIN_IMG_SPL = IMG_SPL + 'train/'\n",
    "VALID_IMG_SPL = IMG_SPL + 'valid/'\n",
    "TRAIN_LBL_SPL = LBL_SPL + 'train/'\n",
    "VALID_LBL_SPL = LBL_SPL + 'valid/'"
   ]
  },
  {
   "cell_type": "code",
   "execution_count": 8,
   "metadata": {
    "tags": []
   },
   "outputs": [
    {
     "output_type": "stream",
     "name": "stdout",
     "text": "1012/1012"
    }
   ],
   "source": [
    "clean_dir(SPLIT)\n",
    "clean_dir(IMG_SPL)\n",
    "clean_dir(LBL_SPL)\n",
    "clean_dir(TRAIN_IMG_SPL)\n",
    "clean_dir(VALID_IMG_SPL)\n",
    "clean_dir(TRAIN_LBL_SPL)\n",
    "clean_dir(VALID_LBL_SPL)\n",
    "for i, name in enumerate(train_x_imgid):\n",
    "    shutil.copy(TRAIN_ORG + name + '.jpg', TRAIN_IMG_SPL)\n",
    "    train_bbox[train_bbox['image_id'] == name].iloc[:, 0:5].to_csv(TRAIN_LBL_SPL + name + '.txt', mode='a', sep=' ', header=None, index=None)\n",
    "    print(str(i+1) + '/' + str(train_x_imgid.shape[0]), end='\\r')\n",
    "for i, name in enumerate(valid_x_imgid):\n",
    "    shutil.copy(TRAIN_ORG + name + '.jpg', VALID_IMG_SPL)\n",
    "    train_bbox[train_bbox['image_id'] == name].iloc[:, 0:5].to_csv(VALID_LBL_SPL + name + '.txt', mode='a', sep=' ', header=None, index=None)\n",
    "    print(str(i+1) + '/' + str(valid_x_imgid.shape[0]), end='\\r')"
   ]
  },
  {
   "cell_type": "code",
   "execution_count": null,
   "metadata": {},
   "outputs": [],
   "source": []
  }
 ],
 "metadata": {
  "language_info": {
   "codemirror_mode": {
    "name": "ipython",
    "version": 3
   },
   "file_extension": ".py",
   "mimetype": "text/x-python",
   "name": "python",
   "nbconvert_exporter": "python",
   "pygments_lexer": "ipython3",
   "version": "3.7.4-final"
  },
  "orig_nbformat": 2,
  "kernelspec": {
   "name": "python3",
   "display_name": "Python 3"
  }
 },
 "nbformat": 4,
 "nbformat_minor": 2
}