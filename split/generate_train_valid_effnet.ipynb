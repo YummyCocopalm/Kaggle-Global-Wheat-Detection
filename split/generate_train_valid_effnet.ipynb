{
 "cells": [
  {
   "cell_type": "code",
   "execution_count": 1,
   "metadata": {
    "tags": []
   },
   "outputs": [
    {
     "output_type": "execute_result",
     "data": {
      "text/plain": "'c:\\\\Users\\\\nohsoocheol.RNDIT\\\\Downloads\\\\99. Etc\\\\testpy\\\\global-wheat-detection\\\\Kaggle-Global-Wheat-Detection'"
     },
     "metadata": {},
     "execution_count": 1
    }
   ],
   "source": [
    "import numpy as np\n",
    "import pandas as pd\n",
    "import os\n",
    "%pwd"
   ]
  },
  {
   "cell_type": "code",
   "execution_count": 2,
   "metadata": {},
   "outputs": [],
   "source": [
    "import random\n",
    "random.seed(0)\n",
    "np.random.seed(0)"
   ]
  },
  {
   "cell_type": "code",
   "execution_count": 3,
   "metadata": {},
   "outputs": [],
   "source": [
    "train = pd.read_csv('../input/global-wheat-detection/train.csv')\n",
    "submission = pd.read_csv('../input/global-wheat-detection/sample_submission.csv')"
   ]
  },
  {
   "cell_type": "code",
   "execution_count": 4,
   "metadata": {
    "tags": []
   },
   "outputs": [
    {
     "output_type": "stream",
     "name": "stderr",
     "text": "100%|██████████| 3373/3373 [00:49<00:00, 67.85it/s]\n"
    },
    {
     "output_type": "execute_result",
     "data": {
      "text/plain": "    image_id   source  bboxs\n0  b6ab77fd7  usask_1     47\n1  b53afdf5c  usask_1     46\n2  7b72ea0fb  usask_1     41\n3  91c9d9c38  usask_1     33\n4  41c0123cc  usask_1     34",
      "text/html": "<div>\n<style scoped>\n    .dataframe tbody tr th:only-of-type {\n        vertical-align: middle;\n    }\n\n    .dataframe tbody tr th {\n        vertical-align: top;\n    }\n\n    .dataframe thead th {\n        text-align: right;\n    }\n</style>\n<table border=\"1\" class=\"dataframe\">\n  <thead>\n    <tr style=\"text-align: right;\">\n      <th></th>\n      <th>image_id</th>\n      <th>source</th>\n      <th>bboxs</th>\n    </tr>\n  </thead>\n  <tbody>\n    <tr>\n      <td>0</td>\n      <td>b6ab77fd7</td>\n      <td>usask_1</td>\n      <td>47</td>\n    </tr>\n    <tr>\n      <td>1</td>\n      <td>b53afdf5c</td>\n      <td>usask_1</td>\n      <td>46</td>\n    </tr>\n    <tr>\n      <td>2</td>\n      <td>7b72ea0fb</td>\n      <td>usask_1</td>\n      <td>41</td>\n    </tr>\n    <tr>\n      <td>3</td>\n      <td>91c9d9c38</td>\n      <td>usask_1</td>\n      <td>33</td>\n    </tr>\n    <tr>\n      <td>4</td>\n      <td>41c0123cc</td>\n      <td>usask_1</td>\n      <td>34</td>\n    </tr>\n  </tbody>\n</table>\n</div>"
     },
     "metadata": {},
     "execution_count": 4
    }
   ],
   "source": [
    "from tqdm import tqdm\n",
    "train_source = train[['image_id', 'source']]\n",
    "train_source = train_source.drop_duplicates()\n",
    "train_source = train_source.reset_index(drop=True)\n",
    "train_source['bboxs'] = np.nan\n",
    "for i in tqdm(range(train_source.shape[0])):\n",
    "    train_source.loc[i, 'bboxs'] = train['image_id'][train['image_id']==train_source.loc[i, 'image_id']].count().astype(np.int64)\n",
    "train_source['bboxs'] = train_source['bboxs'].astype(int)\n",
    "train_source.head()"
   ]
  },
  {
   "cell_type": "code",
   "execution_count": 5,
   "metadata": {
    "tags": []
   },
   "outputs": [],
   "source": [
    "from sklearn.model_selection import StratifiedKFold\n",
    "train_source_y = train_source['source']\n",
    "\n",
    "search_rand = False\n",
    "search_rand_range = 4000\n",
    "opt_diff = 31\n",
    "opt_rand = 3277\n",
    "if search_rand:\n",
    "    for rand_s in tqdm(range(search_rand_range)):\n",
    "        skf = StratifiedKFold(n_splits=5, shuffle=True, random_state=rand_s)\n",
    "        fold_indices = []\n",
    "        for imgid in skf.split(train_source, train_source_y):\n",
    "            fold_indices.append(imgid)\n",
    "\n",
    "        train_bbox_sum = []\n",
    "        valid_bbox_sum = []\n",
    "        for i in range(5):\n",
    "            train_bbox_sum.append(train_source.loc[fold_indices[i][0], 'bboxs'].sum())\n",
    "            valid_bbox_sum.append(train_source.loc[fold_indices[i][1], 'bboxs'].sum())\n",
    "\n",
    "        train_diff = np.max(train_bbox_sum) - np.min(train_bbox_sum)\n",
    "        if opt_diff > train_diff:\n",
    "            opt_diff = train_diff\n",
    "            opt_rand = rand_s\n",
    "    print('opt_diff: ', opt_diff)\n",
    "    print('opt_rand: ', opt_rand)"
   ]
  },
  {
   "cell_type": "code",
   "execution_count": 6,
   "metadata": {},
   "outputs": [],
   "source": [
    "skf = StratifiedKFold(n_splits=5, shuffle=True, random_state=opt_rand)\n",
    "fold_indices = []\n",
    "for imgid in skf.split(train_source, train_source_y):\n",
    "    fold_indices.append(imgid)"
   ]
  },
  {
   "cell_type": "code",
   "execution_count": 7,
   "metadata": {},
   "outputs": [
    {
     "output_type": "execute_result",
     "data": {
      "text/plain": "       x      y      w      h   image_id  class\n0  834.0  222.0   56.0   36.0  b6ab77fd7      0\n1  226.0  548.0  130.0   58.0  b6ab77fd7      0\n2  377.0  504.0   74.0  160.0  b6ab77fd7      0\n3  834.0   95.0  109.0  107.0  b6ab77fd7      0\n4   26.0  144.0  124.0  117.0  b6ab77fd7      0",
      "text/html": "<div>\n<style scoped>\n    .dataframe tbody tr th:only-of-type {\n        vertical-align: middle;\n    }\n\n    .dataframe tbody tr th {\n        vertical-align: top;\n    }\n\n    .dataframe thead th {\n        text-align: right;\n    }\n</style>\n<table border=\"1\" class=\"dataframe\">\n  <thead>\n    <tr style=\"text-align: right;\">\n      <th></th>\n      <th>x</th>\n      <th>y</th>\n      <th>w</th>\n      <th>h</th>\n      <th>image_id</th>\n      <th>class</th>\n    </tr>\n  </thead>\n  <tbody>\n    <tr>\n      <td>0</td>\n      <td>834.0</td>\n      <td>222.0</td>\n      <td>56.0</td>\n      <td>36.0</td>\n      <td>b6ab77fd7</td>\n      <td>0</td>\n    </tr>\n    <tr>\n      <td>1</td>\n      <td>226.0</td>\n      <td>548.0</td>\n      <td>130.0</td>\n      <td>58.0</td>\n      <td>b6ab77fd7</td>\n      <td>0</td>\n    </tr>\n    <tr>\n      <td>2</td>\n      <td>377.0</td>\n      <td>504.0</td>\n      <td>74.0</td>\n      <td>160.0</td>\n      <td>b6ab77fd7</td>\n      <td>0</td>\n    </tr>\n    <tr>\n      <td>3</td>\n      <td>834.0</td>\n      <td>95.0</td>\n      <td>109.0</td>\n      <td>107.0</td>\n      <td>b6ab77fd7</td>\n      <td>0</td>\n    </tr>\n    <tr>\n      <td>4</td>\n      <td>26.0</td>\n      <td>144.0</td>\n      <td>124.0</td>\n      <td>117.0</td>\n      <td>b6ab77fd7</td>\n      <td>0</td>\n    </tr>\n  </tbody>\n</table>\n</div>"
     },
     "metadata": {},
     "execution_count": 7
    }
   ],
   "source": [
    "train_bbox = train['bbox'].str.lstrip('[').str.rstrip(']').str.split(', ', expand=True).astype(float)\n",
    "train_bbox.columns=['x','y','w','h']\n",
    "train_bbox['image_id'] = train['image_id']\n",
    "train_bbox['class'] = 0\n",
    "train_bbox.head()"
   ]
  },
  {
   "cell_type": "code",
   "execution_count": 8,
   "metadata": {},
   "outputs": [],
   "source": [
    "import shutil\n",
    "def clean_dir(path_dir):\n",
    "    if os.path.exists(path_dir):\n",
    "        shutil.rmtree(path_dir)\n",
    "    os.mkdir(path_dir)"
   ]
  },
  {
   "cell_type": "code",
   "execution_count": 9,
   "metadata": {},
   "outputs": [],
   "source": [
    "TRAIN_ORG = '../input/global-wheat-detection/train/'\n",
    "TEST_ORG = '../input/global-wheat-detection/test/'"
   ]
  },
  {
   "cell_type": "code",
   "execution_count": 10,
   "metadata": {},
   "outputs": [],
   "source": [
    "import json\n",
    "class CocoJson():\n",
    "    def __init__(self):\n",
    "        wheat = {}\n",
    "        wheat['id'] = 1\n",
    "        wheat['name'] = 'wheat'\n",
    "        wheat['supercategory'] = 'None'\n",
    "\n",
    "        self.json = {}\n",
    "        self.json['info'] = {}\n",
    "        self.json['licenses'] = []\n",
    "        self.json['categories'] = [wheat]\n",
    "        self.json['images'] = []\n",
    "        self.json['annotations'] = []\n",
    "    \n",
    "    def add_image(self, id, name, width=1024, height=1024):\n",
    "        image = {}\n",
    "        image['id'] = id\n",
    "        image['file_name'] = name\n",
    "        image['width'] = width\n",
    "        image['height'] = height\n",
    "        self.json['images'].append(image)\n",
    "\n",
    "    def add_annot(self, id, image_id, bbox):\n",
    "        annot = {}\n",
    "        annot['id'] = id\n",
    "        annot['image_id'] = image_id\n",
    "        annot['category_id'] = 1\n",
    "        annot['iscrowd'] = 0\n",
    "        annot['bbox'] = bbox\n",
    "        self.json['annotations'].append(annot)"
   ]
  },
  {
   "cell_type": "code",
   "execution_count": 11,
   "metadata": {
    "tags": []
   },
   "outputs": [
    {
     "output_type": "stream",
     "name": "stdout",
     "text": "##### do 0-th fold #####\n100%|██████████| 2696/2696 [01:18<00:00, 34.40it/s]\n100%|██████████| 677/677 [00:19<00:00, 34.07it/s]\n"
    }
   ],
   "source": [
    "for fold in [0]:\n",
    "    print('##### do ' + str(fold) + '-th fold #####')\n",
    "    SPLIT_PATH = '../split-fold' + str(fold) + '/'\n",
    "    TRAIN_PATH = SPLIT_PATH + 'train/'\n",
    "    VALID_PATH = SPLIT_PATH + 'valid/'\n",
    "    ANNOT_PATH = SPLIT_PATH + 'annotations/'\n",
    "    clean_dir(SPLIT_PATH)\n",
    "    clean_dir(TRAIN_PATH)\n",
    "    clean_dir(VALID_PATH)\n",
    "    clean_dir(ANNOT_PATH)\n",
    "\n",
    "    train_json = CocoJson()\n",
    "    annot_id = 0\n",
    "    for image_id, idx in enumerate(tqdm(fold_indices[fold][0])):\n",
    "        name = train_source.loc[idx, 'image_id']\n",
    "        shutil.copy(TRAIN_ORG + name + '.jpg', TRAIN_PATH)\n",
    "        train_json.add_image(image_id, name+'.jpg')\n",
    "        annot_list = train_bbox[train_bbox['image_id'] == name].iloc[:, 0:4]\n",
    "        for i in range(annot_list.shape[0]):\n",
    "            train_json.add_annot(annot_id, image_id, annot_list.iloc[i].tolist())\n",
    "            annot_id = annot_id+1\n",
    "    with open(ANNOT_PATH + 'instances_train.json', 'w') as json_file:\n",
    "        json.dump(train_json.json, json_file)\n",
    "\n",
    "    valid_json = CocoJson()\n",
    "    annot_id = 0\n",
    "    for image_id, idx in enumerate(tqdm(fold_indices[fold][1])):\n",
    "        name = train_source.loc[idx, 'image_id']\n",
    "        shutil.copy(TRAIN_ORG + name + '.jpg', VALID_PATH)\n",
    "        valid_json.add_image(image_id, name+'.jpg')\n",
    "        annot_list = train_bbox[train_bbox['image_id'] == name].iloc[:, 0:4]\n",
    "        for i in range(annot_list.shape[0]):\n",
    "            valid_json.add_annot(annot_id, image_id, annot_list.iloc[i].tolist())\n",
    "            annot_id = annot_id+1\n",
    "    with open(ANNOT_PATH + 'instances_valid.json', 'w') as json_file:\n",
    "        json.dump(valid_json.json, json_file)"
   ]
  },
  {
   "cell_type": "code",
   "execution_count": 13,
   "metadata": {},
   "outputs": [
    {
     "output_type": "execute_result",
     "data": {
      "text/plain": "'../split-fold0/projects/split-fold0.yml'"
     },
     "metadata": {},
     "execution_count": 13
    }
   ],
   "source": [
    "PROJ_PATH = SPLIT_PATH + 'projects/'\n",
    "clean_dir(PROJ_PATH)\n",
    "shutil.copy('./efficientdetconfig/split-fold0.yml', PROJ_PATH)"
   ]
  },
  {
   "cell_type": "code",
   "execution_count": null,
   "metadata": {},
   "outputs": [],
   "source": []
  }
 ],
 "metadata": {
  "language_info": {
   "codemirror_mode": {
    "name": "ipython",
    "version": 3
   },
   "file_extension": ".py",
   "mimetype": "text/x-python",
   "name": "python",
   "nbconvert_exporter": "python",
   "pygments_lexer": "ipython3",
   "version": "3.7.4-final"
  },
  "orig_nbformat": 2,
  "kernelspec": {
   "name": "python3",
   "display_name": "Python 3"
  }
 },
 "nbformat": 4,
 "nbformat_minor": 2
}